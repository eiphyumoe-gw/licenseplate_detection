{
 "cells": [
  {
   "cell_type": "code",
   "execution_count": 1,
   "id": "df80fb8b-498c-43aa-9b67-484949f3cbd1",
   "metadata": {},
   "outputs": [],
   "source": [
    "import cv2\n",
    "import os\n",
    "import numpy as np\n",
    "from datasets_wrapper import CacheDataset, cache_read_img\n",
    "import copy\n",
    "from pycocotools.coco import COCO\n",
    "from PIL import Image"
   ]
  },
  {
   "cell_type": "code",
   "execution_count": 2,
   "id": "08bac6e0-0119-47c1-98fe-bcc63f35b426",
   "metadata": {},
   "outputs": [],
   "source": [
    "coco_image_json = r'/home/epm/YOLOX/datasets/COCO/annotations/instances_val2017.json'\n",
    "coco_image_dir = r'/home/epm/YOLOX/datasets/COCO/val2017'\n",
    "des_file = r'/home/epm/YOLOX/YOLOX_outputs/yolox_s_inference'"
   ]
  },
  {
   "cell_type": "code",
   "execution_count": 3,
   "id": "696133b6-b676-4e44-8ae1-50eb813b32de",
   "metadata": {},
   "outputs": [],
   "source": [
    "# c1 = COCODataset(coco_image_dir, coco_image_json,\"val2017\")"
   ]
  },
  {
   "cell_type": "code",
   "execution_count": 138,
   "id": "0cbebd19-59ab-4d26-ae14-b8ce2863b8e6",
   "metadata": {},
   "outputs": [
    {
     "data": {
      "text/plain": [
       "70"
      ]
     },
     "execution_count": 138,
     "metadata": {},
     "output_type": "execute_result"
    }
   ],
   "source": [
    "c1.__len__()"
   ]
  },
  {
   "cell_type": "code",
   "execution_count": 139,
   "id": "d4b6b451-c571-4596-8657-7f6d9cba5f39",
   "metadata": {},
   "outputs": [
    {
     "name": "stdout",
     "output_type": "stream",
     "text": [
      "[(array([[ 34. , 130. ,  61.5, 146. ,   1. ],\n",
      "       [293. , 271. , 343. , 325. ,   1. ],\n",
      "       [  0. ,  30. ,  88.5, 166.5,   2. ],\n",
      "       [ 50. ,  53. , 361. , 350.5,   2. ]]), (416, 416), (416, 416), 'f5d1729aa333b284_jpg.rf.0a241e6c8cfebc2ee5a5a931954e5da7.jpg'), (array([[281. ,  38. , 415.5, 268. ,   2. ],\n",
      "       [  0. ,   0. , 361. , 383. ,   2. ],\n",
      "       [162. , 181. , 278. , 224. ,   1. ]]), (416, 416), (416, 416), 'ee047c8ca2cca8a2_jpg.rf.0bc64c938f8b5ab15cd02da914c129cc.jpg'), (array([[201. , 185. , 304.5, 258.5,   1. ],\n",
      "       [  0. ,   0. , 357. , 415. ,   2. ]]), (416, 416), (416, 416), 'd8daed582e6cce2d_jpg.rf.03386ec76e971c1c9f6a49da8c28ec19.jpg'), (array([[133. , 261. , 202. , 284. ,   1. ],\n",
      "       [ 70. ,  96. , 370. , 342.5,   2. ]]), (416, 416), (416, 416), 'e5edf93b7c9f5edb_jpg.rf.0cd64b1e0edab1f46d3d52eb35614787.jpg'), (array([[162. , 300. , 224. , 348.5,   1. ],\n",
      "       [  0. ,  36. ,  12. , 173. ,   2. ],\n",
      "       [ 43. ,  27. , 347.5, 409.5,   2. ],\n",
      "       [391. , 115. , 415.5, 291. ,   2. ]]), (416, 416), (416, 416), 'f1131b93a33cefb9_jpg.rf.3ac3c2c994e62ac4887ae7e6d7ba4bd0.jpg'), (array([[201. , 303. , 299.5, 357. ,   1. ],\n",
      "       [  0. ,  12. , 352. , 396.5,   2. ]]), (416, 416), (416, 416), 'f6256bceaf66693f_jpg.rf.3d5dc6962e641d544cbf59697833caa6.jpg'), (array([[281. , 194. , 327. , 228. ,   1. ],\n",
      "       [141. , 162. , 147.5, 184. ,   2. ],\n",
      "       [205. ,  21. , 391.5, 366.5,   2. ],\n",
      "       [391. ,  63. , 405. , 106. ,   2. ]]), (416, 416), (416, 416), 'f3814f4a6121838d_jpg.rf.013c5820d6d5d5ba2b50be4db73ae3ca.jpg'), (array([[113. , 307. , 150. , 343. ,   1. ],\n",
      "       [ 59. ,  97. , 395.5, 360. ,   2. ]]), (416, 416), (416, 416), 'ebaefbcb87bfa8a1_jpg.rf.1ab6203a81b2a33810c05e8dc13a6564.jpg'), (array([[191. , 200. , 328.5, 255. ,   1. ],\n",
      "       [ 18. ,   0. , 411. , 377.5,   2. ]]), (416, 416), (416, 416), 'fdd963edc28bf163_jpg.rf.0ceca3ffee4d2cedea59ed66b5fce75f.jpg'), (array([[171. , 274. , 252.5, 306. ,   1. ],\n",
      "       [  0. , 174. ,  12. , 242. ,   2. ],\n",
      "       [ 24. ,  80. , 391.5, 405. ,   2. ],\n",
      "       [364. , 164. , 415.5, 237. ,   2. ]]), (416, 416), (416, 416), 'ff85b09876d61631_jpg.rf.201dc4858f1861b27a121abceab0b15e.jpg'), (array([[259. , 197. , 329.5, 227.5,   1. ],\n",
      "       [  3. , 119. , 374. , 365. ,   2. ]]), (416, 416), (416, 416), 'd7b71c9fd144d58d_jpg.rf.344e728f4fcbc87ff0e85e1219875fde.jpg'), (array([[  2. , 168. ,  20.5, 186. ,   1. ],\n",
      "       [  0. ,  91. ,  49. , 216. ,   2. ],\n",
      "       [ 27. , 108. , 416. , 365.5,   2. ],\n",
      "       [ 29. ,  94. , 127.5, 145. ,   2. ]]), (416, 416), (416, 416), 'f3c9af100984744f_jpg.rf.01491d4fac670507042e004209d38e88.jpg'), (array([[164. , 208. , 228. , 237. ,   1. ],\n",
      "       [ 60. ,  12. , 333.5, 356.5,   2. ]]), (416, 416), (416, 416), 'd44c0b2252bf8a92_jpg.rf.0995fee700253a3ce0b78c661fff9c77.jpg'), (array([[ 87. , 194. , 135.5, 234.5,   1. ],\n",
      "       [  0. ,  73. ,  83. , 212. ,   2. ],\n",
      "       [ 13. ,  94. , 395.5, 391.5,   2. ],\n",
      "       [320. ,  88. , 415.5, 278.5,   2. ]]), (416, 416), (416, 416), 'e9561d7c16db565f_jpg.rf.26cc0d0cc7658dc2ce4433d9034683c9.jpg'), (array([[138. , 261. , 236. , 286.5,   1. ],\n",
      "       [393. , 201. , 415.5, 212. ,   1. ],\n",
      "       [  0. ,  82. , 415.5, 351. ,   2. ]]), (416, 416), (416, 416), 'd648b2ae1abc09f3_jpg.rf.3451503900a53564047347dc902024a2.jpg'), (array([[ 87., 198., 321., 349.,   1.],\n",
      "       [  0.,   0., 415., 415.,   2.]]), (416, 416), (416, 416), 'da1352ab6054a2e4_jpg.rf.1cc96761ed6a1cafa604c877cdcfa249.jpg'), (array([[259. , 266. , 327. , 290.5,   1. ],\n",
      "       [ 22. ,  51. , 392. , 354.5,   2. ]]), (416, 416), (416, 416), 'efde2a25c1c9c924_jpg.rf.25d1271fa96830d3427e76a14756ab28.jpg'), (array([[ 65. , 125. ,  77.5, 139.5,   1. ],\n",
      "       [313. , 248. , 351. , 281.5,   1. ],\n",
      "       [  0. ,  62. , 114. , 222.5,   2. ],\n",
      "       [ 22. ,  45. , 404.5, 338. ,   2. ],\n",
      "       [348. ,  77. , 416. , 192.5,   2. ],\n",
      "       [397. , 179. , 416. , 289.5,   2. ]]), (416, 416), (416, 416), 'de2b5afb7eda96cf_jpg.rf.3298a50d54a9435a62b804689b4b437a.jpg'), (array([[117. , 252. , 161.5, 298. ,   1. ],\n",
      "       [102. ,  67. , 397. , 340.5,   2. ],\n",
      "       [105. ,  85. , 148.5, 109. ,   2. ],\n",
      "       [164. ,  77. , 225. , 115.5,   2. ]]), (416, 416), (416, 416), 'f194eaf4f3d1d835_jpg.rf.2e7c958e01b6b9bf13508cfc614d908c.jpg'), (array([[ 30. , 217. ,  46. , 255.5,   1. ],\n",
      "       [ 12. ,  17. , 397. , 383. ,   2. ]]), (416, 416), (416, 416), 'f53243c2bb551b8a_jpg.rf.5d1943699e59e1ab415bed51051ac728.jpg'), (array([[ 72. , 252. , 119.5, 288. ,   1. ],\n",
      "       [  0. , 147. ,  53. , 255.5,   2. ],\n",
      "       [ 37. ,  30. , 356. , 383.5,   2. ]]), (416, 416), (416, 416), 'd7d49b1a3706f3eb_jpg.rf.5aabf123bc9869f4f1bcb6da3642c58b.jpg'), (array([[140. , 213. , 208.5, 259. ,   1. ],\n",
      "       [  1. ,  50. , 416. , 415.5,   2. ]]), (416, 416), (416, 416), 'e9fdd0a41cb61da6_jpg.rf.656fd48ffc3fada5132b953f736c81fa.jpg'), (array([[ 78. , 296. , 174.5, 341. ,   1. ],\n",
      "       [  0. ,  24. , 137. , 269. ,   2. ],\n",
      "       [  3. ,  10. , 409. , 408.5,   2. ]]), (416, 416), (416, 416), 'dec4608715b2d28d_jpg.rf.50fd9a4fdbe998abbdc298b27cd9ae1e.jpg'), (array([[183. , 212. , 263. , 249.5,   1. ],\n",
      "       [368. ,  84. , 376.5,  89. ,   1. ],\n",
      "       [ 49. ,   0. , 382.5, 414.5,   2. ]]), (416, 416), (416, 416), 'd5058059dc0ce0ad_jpg.rf.50a59f230c5dc764a2c36abe44b97e1d.jpg'), (array([[160. , 294. , 261. , 318.5,   1. ],\n",
      "       [371. ,  57. , 377. ,  63. ,   1. ],\n",
      "       [  0. ,   0. , 415.5, 396. ,   2. ]]), (416, 416), (416, 416), 'f3d472955c13cae0_jpg.rf.5cd7ff38d9e391c2885c53e63b71c4fc.jpg'), (array([[ 25. , 218. ,  61.5, 288. ,   1. ],\n",
      "       [ 17. ,   0. , 415. , 415. ,   2. ]]), (416, 416), (416, 416), 'e40cafe0f0d3a550_jpg.rf.4723f3c94efe1585d431e875059da02d.jpg'), (array([[ 64. , 331. , 121. , 404. ,   1. ],\n",
      "       [  0. ,  41. ,  47.5, 261. ,   2. ],\n",
      "       [  5. ,   7. , 383.5, 415.5,   2. ]]), (416, 416), (416, 416), 'f3bd3adea149193b_jpg.rf.8711f9cf71ce14ff2a27b80cb74a0640.jpg'), (array([[ 78. , 212. , 124. , 227. ,   1. ],\n",
      "       [ 38. ,  59. , 122. , 197.5,   2. ],\n",
      "       [ 51. ,  90. , 229. , 245.5,   2. ],\n",
      "       [326. ,  52. , 416. , 133. ,   2. ]]), (416, 416), (416, 416), 'ec8a36f7874c0c34_jpg.rf.4ad121688724db215a0006e80251e53a.jpg'), (array([[252. , 249. , 287.5, 286. ,   1. ],\n",
      "       [  0. ,  54. , 324. , 361.5,   2. ],\n",
      "       [314. ,   0. , 415.5, 299.5,   2. ]]), (416, 416), (416, 416), 'fa9147596edc058f_jpg.rf.7c861ca9e4b176c808355fe12c238f1c.jpg'), (array([[335. , 215. , 411. , 260.5,   1. ],\n",
      "       [  6. , 142. , 410.5, 274.5,   2. ],\n",
      "       [  7. ,   8. , 411. , 136. ,   2. ],\n",
      "       [  7. , 284. , 317.5, 410. ,   2. ]]), (416, 416), (416, 416), 'd8cc6d566d01054b_jpg.rf.87ca0828b3ff99c4851e049976dbd842.jpg'), (array([[183. , 302. , 231. , 338. ,   1. ],\n",
      "       [  0. ,  39. ,  73. ,  91. ,   2. ],\n",
      "       [  0. ,  74. , 114. , 328.5,   2. ],\n",
      "       [ 66. ,  35. , 182.5, 148.5,   2. ],\n",
      "       [ 99. ,  71. , 321.5, 364.5,   2. ],\n",
      "       [349. ,  91. , 416. , 280.5,   2. ]]), (416, 416), (416, 416), 'f9f539977bfea25e_jpg.rf.7e552e7ec59f662071a91f28b630b2d6.jpg'), (array([[105. , 212. , 145. , 254. ,   1. ],\n",
      "       [391. , 153. , 399. , 157.5,   1. ],\n",
      "       [ 50. , 106. , 369.5, 361. ,   2. ],\n",
      "       [329. , 125. , 386. , 183.5,   2. ],\n",
      "       [376. , 117. , 416. , 175. ,   2. ]]), (416, 416), (416, 416), 'd5f4069e6734ac06_jpg.rf.a56a7fe6fa63495583c618e5deccee88.jpg'), (array([[199. , 234. , 247.5, 269. ,   1. ],\n",
      "       [  0. ,  87. , 100. , 280.5,   2. ],\n",
      "       [105. , 114. , 346. , 353. ,   2. ],\n",
      "       [305. , 142. , 323.5, 157. ,   2. ],\n",
      "       [357. , 156. , 416. , 288.5,   2. ],\n",
      "       [363. , 141. , 402.5, 172.5,   2. ]]), (416, 416), (416, 416), 'e52d4f347b2cf90f_jpg.rf.9f3fabde331c83601a0b75f8ce6d4363.jpg'), (array([[161. , 270. , 283. , 318. ,   1. ],\n",
      "       [ 27. ,  39. , 415.5, 396.5,   2. ],\n",
      "       [ 36. ,  12. ,  82.5,  44.5,   2. ],\n",
      "       [ 57. ,  19. , 112. ,  52.5,   2. ],\n",
      "       [108. ,   7. , 134.5,  26. ,   2. ]]), (416, 416), (416, 416), 'e79f6777f2fc08b2_jpg.rf.998e7d2e9ea4b5d8bd74e17553a16d1c.jpg'), (array([[133. , 205. , 177.5, 224.5,   1. ],\n",
      "       [108. ,  73. , 392. , 263. ,   2. ]]), (416, 416), (416, 416), 'f700c5b69c973db6_jpg.rf.84262bc04536e11b5182e3d0b653144a.jpg'), (array([[  9. , 196. , 101.5, 260. ,   1. ],\n",
      "       [  0. ,   0. , 299. , 299. ,   2. ]]), (416, 416), (416, 416), 'd9fa2abf3719a4bd_jpg.rf.b23a4781435fb7973f2d6afb66c1a169.jpg'), (array([[ 75. , 202. , 130. , 236.5,   1. ],\n",
      "       [  0. ,  95. , 415.5, 182. ,   2. ],\n",
      "       [ 32. ,  52. , 403.5, 382. ,   2. ]]), (416, 416), (416, 416), 'e1120bfe48f85c1b_jpg.rf.53f3da676938aee7f3d78438d98a741e.jpg'), (array([[ 87. , 226. , 133.5, 271.5,   1. ],\n",
      "       [409. ,  78. , 415.5,  84. ,   1. ],\n",
      "       [  0. ,  28. , 397. , 348. ,   2. ],\n",
      "       [393. ,  38. , 416. ,  88.5,   2. ]]), (416, 416), (416, 416), 'e57d38ae6a921518_jpg.rf.8924c9a0254a3c5fe0589ad3a3c49791.jpg'), (array([[116. , 250. , 192. , 304.5,   1. ],\n",
      "       [  0. ,  81. ,  43. , 308. ,   2. ],\n",
      "       [  2. ,   2. , 415. , 407. ,   2. ]]), (416, 416), (416, 416), 'e9cd346a4a84d594_jpg.rf.5d4115c863143b9368f24fc6f80a72b8.jpg'), (array([[237. , 198. , 301. , 229. ,   1. ],\n",
      "       [130. ,  96. , 346.5, 323. ,   2. ]]), (416, 416), (416, 416), 'd3729058c6a4186e_jpg.rf.7b93b9b84f702138e29c507a88bcdcf8.jpg'), (array([[161. , 295. , 251. , 320. ,   1. ],\n",
      "       [219. ,  86. , 287. , 105.5,   1. ],\n",
      "       [ 70. ,   7. , 344.5, 190. ,   2. ],\n",
      "       [ 75. , 190. , 338. , 415.5,   2. ]]), (416, 416), (416, 416), 'fe6139d150a3e2a8_jpg.rf.8edada9f804dbd300352a94b9173de87.jpg'), (array([[ 23. , 147. , 101.5, 169.5,   1. ],\n",
      "       [161. , 357. , 244.5, 379. ,   1. ],\n",
      "       [  0. ,   0. , 153. , 192. ,   2. ],\n",
      "       [  0. ,   0. , 415. , 220. ,   2. ],\n",
      "       [ 82. , 224. , 347.5, 416. ,   2. ],\n",
      "       [306. ,  10. , 402. ,  55.5,   2. ],\n",
      "       [391. ,  10. , 415.5,  48. ,   2. ]]), (416, 416), (416, 416), 'daac3a6c64a79bea_jpg.rf.a1a14b3209547b4456386f7b8bc385ad.jpg'), (array([[ 32. , 225. ,  68.5, 283. ,   1. ],\n",
      "       [ 28. ,  33. , 404.5, 366. ,   2. ],\n",
      "       [361. ,  44. , 416. , 100. ,   2. ]]), (416, 416), (416, 416), 'e2427db217e5c3db_jpg.rf.87aa3327cd912e683eccc27e7504fd4e.jpg'), (array([[166. , 226. , 214. , 241.5,   1. ],\n",
      "       [ 51. , 106. , 328.5, 263. ,   2. ],\n",
      "       [244. ,  92. , 289.5, 117. ,   2. ]]), (416, 416), (416, 416), 'da8186b39f042cdf_jpg.rf.b2ffe293241ac81cd560c8509c826a2c.jpg'), (array([[ 85. , 139. , 152. , 166.5,   1. ],\n",
      "       [ 24. ,  32. , 300.5, 285.5,   2. ]]), (416, 416), (416, 416), 'f5c2a80a21ddb78c_jpg.rf.b39c112d7e368f89af4d4e84df4c0444.jpg'), (array([[ 55. , 210. , 102.5, 229. ,   1. ],\n",
      "       [ 23. , 131. , 393. , 332.5,   2. ]]), (416, 416), (416, 416), 'ed7d99098d4af8e6_jpg.rf.a5ec56269e3f60a294b81a36476c4578.jpg'), (array([[178. , 274. , 230. , 293.5,   1. ],\n",
      "       [ 92. ,  98. , 348. , 356.5,   2. ]]), (416, 416), (416, 416), 'd59b7a0ff294e3be_jpg.rf.7de44e7ed2850e39c014a587a09a9521.jpg'), (array([[158. , 158. , 241.5, 214.5,   1. ],\n",
      "       [  0. ,   0. , 397. , 338. ,   2. ]]), (416, 416), (416, 416), 'e08424f3cd5f6dac_jpg.rf.adfb3272bf93fcacecf2717dc9017cfc.jpg'), (array([[348. , 240. , 389. , 288. ,   1. ],\n",
      "       [ 13. ,  30. , 415.5, 334. ,   2. ],\n",
      "       [327. ,  59. , 415.5, 133. ,   2. ]]), (416, 416), (416, 416), 'e742e284c7c9da96_jpg.rf.c04de3ca8144406aae57e58a0767a90b.jpg'), (array([[188. , 247. , 236.5, 279. ,   1. ],\n",
      "       [ 28. , 122. ,  56. , 157.5,   2. ],\n",
      "       [ 66. , 132. ,  77.5, 145.5,   2. ],\n",
      "       [ 69. ,  91. , 346.5, 416. ,   2. ],\n",
      "       [ 81. , 124. ,  97.5, 148. ,   2. ],\n",
      "       [368. , 122. , 384.5, 141.5,   2. ]]), (416, 416), (416, 416), 'e1925cd0ae28fbd9_jpg.rf.8b647795483a7440c0740f82bbb27ecd.jpg'), (array([[ 40. , 304. , 102. , 330.5,   1. ],\n",
      "       [  4. , 143. , 414.5, 391.5,   2. ]]), (416, 416), (416, 416), 'fd07d2db70cf53d5_jpg.rf.cbe13b5b6bf07cef4668714db2c4d27a.jpg'), (array([[215. , 250. , 288.5, 296.5,   1. ],\n",
      "       [  0. ,  50. , 415.5, 416. ,   2. ]]), (416, 416), (416, 416), 'fa897478280a2758_jpg.rf.d2bf1e1044188ef8857c525e4ffaf9fb.jpg'), (array([[ 41. , 173. ,  55. , 178.5,   1. ],\n",
      "       [ 64. , 317. , 121.5, 357. ,   1. ],\n",
      "       [277. , 139. , 283.5, 143.5,   1. ],\n",
      "       [328. , 176. , 347.5, 184. ,   1. ],\n",
      "       [  0. , 136. ,  21.5, 206. ,   2. ],\n",
      "       [ 19. , 137. , 318. , 371. ,   2. ],\n",
      "       [ 32. , 130. , 137. , 189. ,   2. ],\n",
      "       [185. , 127. , 223. , 137. ,   2. ],\n",
      "       [224. , 126. , 258. , 139. ,   2. ],\n",
      "       [272. , 127. , 301. , 147.5,   2. ],\n",
      "       [311. , 132. , 377. , 191.5,   2. ]]), (416, 416), (416, 416), 'ea02d99ba51372ee_jpg.rf.cc3e2726efd58438ae80fe7558a3430b.jpg'), (array([[162. , 314. , 243. , 382.5,   1. ],\n",
      "       [  0. ,   0. , 413. , 415. ,   2. ]]), (416, 416), (416, 416), 'f0c7057612710f21_jpg.rf.c87e603671206576d491e89b48e83c1d.jpg'), (array([[111. , 276. , 170. , 296.5,   1. ],\n",
      "       [ 63. , 102. , 317.5, 344. ,   2. ],\n",
      "       [401. ,  77. , 415.5, 119.5,   2. ]]), (416, 416), (416, 416), 'f83d18919353c483_jpg.rf.c8beeec60c666e6f3488c8d67c0f13cd.jpg'), (array([[167., 316., 219., 342.,   1.],\n",
      "       [  1.,  68., 397., 416.,   2.]]), (416, 416), (416, 416), 'd830c3573e57bfc0_jpg.rf.e7fc2d97efb8e6132fbcf3626a5f041e.jpg'), (array([[209. , 301. , 273. , 330. ,   1. ],\n",
      "       [ 82. , 113. , 313.5, 383.5,   2. ]]), (416, 416), (416, 416), 'd565d93637d4e76d_jpg.rf.f52836c9876bfd0e5089f88a6b62024c.jpg'), (array([[213. , 185. , 331.5, 263.5,   1. ],\n",
      "       [  0. ,   0. , 376. , 369. ,   2. ],\n",
      "       [269. ,   0. , 415.5, 148. ,   2. ]]), (416, 416), (416, 416), 'ff69d090c735eccb_jpg.rf.f9aa9152d27698703b9fbc6026a7fd54.jpg'), (array([[149. , 244. , 274. , 294. ,   1. ],\n",
      "       [  0. ,  22. , 413.5, 416. ,   2. ]]), (416, 416), (416, 416), 'fb55b73f241bf50a_jpg.rf.fbe131c0c520f889a41a27afcbfdaad6.jpg'), (array([[166. , 371. , 245. , 414. ,   1. ],\n",
      "       [  3. ,   1. , 387.5, 416. ,   2. ],\n",
      "       [  3. ,  31. ,  45. , 130.5,   2. ],\n",
      "       [333. ,  41. , 388.5,  87.5,   2. ]]), (416, 416), (416, 416), 'feaf383fc5de383f_jpg.rf.c5dbef8443e9fd214eea976a90a18f13.jpg'), (array([[238. , 220. , 289. , 260.5,   1. ],\n",
      "       [  0. ,  88. ,  57. , 249.5,   2. ]]), (416, 416), (416, 416), 'f5128e7a123b4fa8_jpg.rf.f0b1b11e39538a41d4cf9793804ed412.jpg'), (array([[ 66., 264., 401., 373.,   1.]]), (416, 416), (416, 416), 'e82f13b4a2fe69f3_jpg.rf.f148aee9acbf4ed4796fb7e5276c591f.jpg'), (array([[151. ,  43. , 250.5, 101. ,   1. ]]), (416, 416), (416, 416), 'f9170e8c13a99991_jpg.rf.d7cbeb13c4b399490ec2509636538441.jpg'), (array([[ 24. , 219. ,  93.5, 270. ,   1. ],\n",
      "       [378. , 121. , 416. , 152. ,   1. ],\n",
      "       [  0. ,   0. , 376.5, 385.5,   2. ],\n",
      "       [308. ,   0. , 416. , 193.5,   2. ]]), (416, 416), (416, 416), 'fed5c0275ff3a440_jpg.rf.e5109ca74608d31d401d0d1e6e8e6ad9.jpg'), (array([[170. , 242. , 208. , 259.5,   1. ],\n",
      "       [127. , 124. , 371. , 386. ,   2. ]]), (416, 416), (416, 416), 'd53a3bc813477685_jpg.rf.59f7ed2aba87b0665ed2c68d08a3eb45.jpg'), (array([[187. , 272. , 295.5, 308. ,   1. ],\n",
      "       [192. , 101. , 235. , 112.5,   1. ],\n",
      "       [ 14. ,  55. , 127. ,  84. ,   2. ],\n",
      "       [ 29. , 218. , 416. , 412.5,   2. ],\n",
      "       [ 72. ,  48. , 338. , 173.5,   2. ]]), (416, 416), (416, 416), 'fb4e60b5cee8b88e_jpg.rf.b4845134001c4183f4102cf6f53b4337.jpg'), (array([[  0., 321., 119., 361.,   1.],\n",
      "       [  0.,  24., 415., 413.,   2.]]), (416, 416), (416, 416), 'edecf3a6d569b7c9_jpg.rf.f254a9095f9d6054bae04137aa9fcfb5.jpg'), (array([[278. , 313. , 343. , 340. ,   1. ],\n",
      "       [130. , 162. , 403.5, 397. ,   2. ]]), (416, 416), (416, 416), 'f73b754cdb1ab677_jpg.rf.fbaf4ab9ba4b4c1149fd1339aadbbde7.jpg'), (array([[ 66. , 197. , 122.5, 269.5,   1. ],\n",
      "       [ 33. ,  52. , 415.5, 416. ,   2. ]]), (416, 416), (416, 416), 'defd8f4b30b3e1e1_jpg.rf.e0acef146000f69bf51b82aa3b62cb90.jpg'), (array([[324. , 259. , 379. , 304.5,   1. ],\n",
      "       [ 30. ,  89. , 395.5, 366.5,   2. ]]), (416, 416), (416, 416), 'd8f6c135ec5486ff_jpg.rf.d67a8d28a1ce8c4b4336cf832d2a8da7.jpg')]\n"
     ]
    }
   ],
   "source": [
    "print(c1._load_coco_annotations())"
   ]
  },
  {
   "cell_type": "code",
   "execution_count": 65,
   "id": "400f5ea7-1f80-41d9-a476-1080227c27ca",
   "metadata": {},
   "outputs": [],
   "source": [
    "from PIL import Image \n",
    "data = Image.fromarray(img)\n",
    "data.save('test.png')"
   ]
  },
  {
   "cell_type": "code",
   "execution_count": 75,
   "id": "3a927678-de0c-41eb-84b8-9577266411bb",
   "metadata": {},
   "outputs": [],
   "source": [
    "res, img_info, resized_info, file_name= c1.load_anno_from_ids(1)"
   ]
  },
  {
   "cell_type": "code",
   "execution_count": 77,
   "id": "77cdb0ae-7e28-4098-8aa2-02fd260f1600",
   "metadata": {},
   "outputs": [],
   "source": [
    "res_img = Image.fromarray(res)\n",
    "res_img.show()"
   ]
  },
  {
   "cell_type": "code",
   "execution_count": 19,
   "id": "36b771bf-405c-43a6-9f2a-7d132b16757b",
   "metadata": {},
   "outputs": [
    {
     "data": {
      "text/plain": [
       "array([[281. ,  38. , 415.5, 268. ,   2. ],\n",
       "       [  0. ,   0. , 361. , 383. ,   2. ],\n",
       "       [162. , 181. , 278. , 224. ,   1. ]])"
      ]
     },
     "execution_count": 19,
     "metadata": {},
     "output_type": "execute_result"
    }
   ],
   "source": [
    "c1.load_anno(1)"
   ]
  },
  {
   "cell_type": "code",
   "execution_count": 21,
   "id": "e4cf5e19-c95f-43ae-9757-d3123c20717c",
   "metadata": {},
   "outputs": [],
   "source": [
    "img = c1.load_image(1)\n",
    "img = Image.fromarray(img)\n",
    "img.show()"
   ]
  },
  {
   "cell_type": "code",
   "execution_count": 23,
   "id": "c5071266-cc84-451f-a6f3-af8f19e9af24",
   "metadata": {},
   "outputs": [],
   "source": [
    "img, target, img_info, img_id = c1.__getitem__(1)"
   ]
  },
  {
   "cell_type": "code",
   "execution_count": 25,
   "id": "55e37b6b-8ee9-4603-88a9-7d64bfa2018e",
   "metadata": {},
   "outputs": [],
   "source": [
    "target = Image.fromarray(target)\n",
    "target.show()"
   ]
  },
  {
   "cell_type": "markdown",
   "id": "ae0eb187-e398-4bd1-957a-19ce454a3c68",
   "metadata": {},
   "source": [
    "# Load Json "
   ]
  },
  {
   "cell_type": "code",
   "execution_count": 3,
   "id": "68590d56-6ff8-4fa5-b7ea-ae019a228b60",
   "metadata": {},
   "outputs": [],
   "source": [
    "import json\n",
    "coco_image_json = r'/home/epm/YOLOX/datasets/COCO/annotations/instances_val2017.json'\n",
    "json_file = open(coco_image_json)\n",
    "j_file = json.load(json_file)"
   ]
  },
  {
   "cell_type": "code",
   "execution_count": 4,
   "id": "175bb5c8-1c51-47d8-acff-af9c0c3406af",
   "metadata": {},
   "outputs": [
    {
     "name": "stdout",
     "output_type": "stream",
     "text": [
      "loading annotations into memory...\n",
      "Done (t=0.00s)\n",
      "creating index...\n",
      "index created!\n"
     ]
    }
   ],
   "source": [
    "coco = COCO(coco_image_json)\n",
    "im_ann = coco.loadImgs(1)[0]"
   ]
  },
  {
   "cell_type": "code",
   "execution_count": 63,
   "id": "d339079a-54e9-4ead-965c-032666c2d9c7",
   "metadata": {},
   "outputs": [
    {
     "name": "stdout",
     "output_type": "stream",
     "text": [
      "218\n"
     ]
    }
   ],
   "source": [
    "coco_anno = j_file['annotations']\n",
    "print(len(coco_anno))"
   ]
  },
  {
   "cell_type": "code",
   "execution_count": 66,
   "id": "9d89f8e9-df3f-4ef8-9378-d8223bf35c4f",
   "metadata": {
    "scrolled": true
   },
   "outputs": [],
   "source": [
    "coco_anno = j_file['annotations']\n",
    "def load_anno(image_id):\n",
    "    objs = []\n",
    "    im_ann = coco.loadImgs(image_id)[0]\n",
    "    anno_ids = coco.getAnnIds(imgIds=[int(image_id)], iscrowd=False)\n",
    "    # print(\"+++++\", anno_ids)\n",
    "    annotations = coco.loadAnns(anno_ids)\n",
    "    for obj in annotations:\n",
    "        # x1 = np.max((0, obj['bbox'][0]))\n",
    "        # y1 = np.max((0, obj['bbox'][1]))\n",
    "        # x2 = np.min((width, x1 + np.max((0, obj['bbox'][2]))))\n",
    "        # y2 = np.min((height, y1 + np.max((0, obj['bbox'][3]))))\n",
    "        x1 = obj['bbox'][0]\n",
    "        y1 = obj['bbox'][1]\n",
    "        x2 = x1 + obj['bbox'][2]\n",
    "        y2 = y1 + obj['bbox'][3]\n",
    "    \n",
    "        # print(x1, y1, x2, y2)\n",
    "        if obj['area'] > 0 and x2 >= x1 and y2 >= y1:\n",
    "            obj['clean_bbox'] = [x1, y1, x2, y2]\n",
    "            # print(obj['clean_bbox'])\n",
    "            objs.append(obj)\n",
    "    return objs\n",
    "    \n",
    "for obj in coco_anno:\n",
    "    # print(obj)\n",
    "    image_id = obj['image_id']\n",
    "    objs = load_anno(image_id)\n",
    "    num_objs = len(objs)\n",
    "    res = np.zeros((num_objs, 5))\n",
    "    for ix, obj in enumerate(objs):\n",
    "        res[ix, 0:4] = obj['clean_bbox']\n",
    "        res[ix, 4] = obj['category_id']\n",
    "        # print(res)"
   ]
  },
  {
   "cell_type": "code",
   "execution_count": 11,
   "id": "f94cb923-d906-405e-a78f-a230ae6ac05e",
   "metadata": {},
   "outputs": [],
   "source": [
    "from yolox.data.datasets import COCO_CLASSES\n",
    "cls_name = COCO_CLASSES"
   ]
  },
  {
   "cell_type": "markdown",
   "id": "fb5a27d7-1cbb-43ca-9de2-e3de1af20b86",
   "metadata": {},
   "source": [
    "## Test one image"
   ]
  },
  {
   "cell_type": "code",
   "execution_count": 61,
   "id": "6f77eb45-4092-41b8-9182-7d90448ff71c",
   "metadata": {
    "scrolled": true
   },
   "outputs": [
    {
     "name": "stdout",
     "output_type": "stream",
     "text": [
      "+++++ [4, 5, 6]\n",
      "281 38 415.5 268\n",
      "0 0 361 383\n",
      "162 181 278 224\n",
      "/home/epm/YOLOX/datasets/COCO/val2017/ee047c8ca2cca8a2_jpg.rf.0bc64c938f8b5ab15cd02da914c129cc.jpg\n",
      "{'id': 4, 'image_id': 1, 'category_id': 2, 'bbox': [281, 38, 134.5, 230], 'area': 30935, 'segmentation': [], 'iscrowd': 0, 'clean_bbox': [281, 38, 415.5, 268]}\n",
      "car\n",
      "281 38 415.5 268\n",
      "{'id': 5, 'image_id': 1, 'category_id': 2, 'bbox': [0, 0, 361, 383], 'area': 138263, 'segmentation': [], 'iscrowd': 0, 'clean_bbox': [0, 0, 361, 383]}\n",
      "car\n",
      "0 0 361 383\n",
      "{'id': 6, 'image_id': 1, 'category_id': 1, 'bbox': [162, 181, 116, 43], 'area': 4988, 'segmentation': [], 'iscrowd': 0, 'clean_bbox': [162, 181, 278, 224]}\n",
      "license\n",
      "162 181 278 224\n"
     ]
    },
    {
     "data": {
      "text/plain": [
       "True"
      ]
     },
     "execution_count": 61,
     "metadata": {},
     "output_type": "execute_result"
    }
   ],
   "source": [
    "from yolox.data.datasets import COCO_CLASSES\n",
    "import random\n",
    "temp_img_id = 1\n",
    "temp_objs = load_anno(temp_img_id)\n",
    "num_objs = len(temp_objs)\n",
    "cls = COCO_CLASSES\n",
    "green = (0, 255, 0) #license_plate\n",
    "red = (255, 0, 0)  #car\n",
    "blue = (0, 0, 255) #plate\n",
    "# res = np.zeros((num_objs, 5))\n",
    "img_filename = os.path.join(coco_image_dir, coco.loadImgs(temp_img_id)[0]['file_name'])\n",
    "print(img_filename)\n",
    "img = cv2.imread(img_filename)\n",
    "for ix, obj in enumerate(temp_objs):\n",
    "    print(obj)\n",
    "    x1, y1, x2, y2 = obj['clean_bbox']\n",
    "    category = obj['category_id']\n",
    "    print(cls[category])\n",
    "    print(x1, y1, x2, y2)\n",
    "    # res[ix, 0:4] = obj['clean_bbox']\n",
    "    # res[ix, 4] = obj['category_id']\n",
    "    if obj['category_id']== 0:\n",
    "        color = green\n",
    "    elif obj['category_id']==1:\n",
    "        color = red\n",
    "    else:\n",
    "        color = blue\n",
    "    cv2.rectangle(img, (int(x1),int(y1)), (int(x2),int(y2)), color, 2)\n",
    "    cv2.putText(img, cls[category], (x1, y1), cv2.FONT_HERSHEY_SIMPLEX, 0.8, color, thickness=1)\n",
    "cv2.imwrite('test1.png', img)"
   ]
  },
  {
   "cell_type": "markdown",
   "id": "b1c7c2a1-b80d-41f5-836c-69b9d062b8dd",
   "metadata": {},
   "source": [
    "## Test directory"
   ]
  },
  {
   "cell_type": "code",
   "execution_count": 39,
   "id": "ba4659a8-e273-47f2-a253-b18f266e2a18",
   "metadata": {},
   "outputs": [
    {
     "name": "stdout",
     "output_type": "stream",
     "text": [
      "loading annotations into memory...\n",
      "Done (t=0.00s)\n",
      "creating index...\n",
      "index created!\n"
     ]
    }
   ],
   "source": [
    "coco_image_json = r'/home/epm/YOLOX/datasets/COCO/annotations/instances_val2017.json'\n",
    "coco_image_dir = r'/home/epm/YOLOX/datasets/COCO/val2017'\n",
    "json_file = open(coco_image_json)\n",
    "j_file = json.load(json_file)\n",
    "coco = COCO(coco_image_json)"
   ]
  },
  {
   "cell_type": "code",
   "execution_count": 40,
   "id": "697caad4-71ca-4082-bb6c-a85a305162d2",
   "metadata": {},
   "outputs": [],
   "source": [
    "os.mkdir(r'/home/epm/YOLOX/datasets/COCO/val_annotation_1')"
   ]
  },
  {
   "cell_type": "code",
   "execution_count": 67,
   "id": "549d12ff-ab2c-463a-8b26-bd98406d850f",
   "metadata": {},
   "outputs": [],
   "source": [
    "coco_anno = j_file['annotations']\n",
    "val_annotation = r'/home/epm/YOLOX/datasets/COCO/val_annotation_1'\n",
    "for obj in coco_anno:\n",
    "    image_id = obj['image_id']\n",
    "    img_filename = os.path.join(coco_image_dir, coco.loadImgs(image_id)[0]['file_name'])\n",
    "    base_name = os.path.basename(img_filename)\n",
    "    # print(base_name)\n",
    "    img = cv2.imread(img_filename)\n",
    "    # print(obj)\n",
    "    image_id = obj['image_id']\n",
    "    objs = load_anno(image_id)\n",
    "    num_objs = len(objs)\n",
    "    res = np.zeros((num_objs, 5))\n",
    "    for ix, obj in enumerate(objs):\n",
    "        x1, y1, x2, y2 = obj['clean_bbox']\n",
    "        # print(x1, y1, x2, y2)\n",
    "        res[ix, 0:4] = obj['clean_bbox']\n",
    "        res[ix, 4] = obj['category_id']\n",
    "        cv2.rectangle(img, (int(x1),int(y1)), (int(x2),int(y2)), (255,125, 255), 2)\n",
    "    # cv2.imwrite(r'/home/epm/YOLOX/datasets/COCO/val_annotation/{}'.format(base_name) , img)\n",
    "    # cv2.imwrite(f'{val_annotation}/'+ base_name , img)\n",
    "    # print(obj)"
   ]
  },
  {
   "cell_type": "code",
   "execution_count": 70,
   "id": "b45fea3b-f3e8-4648-9303-7afc91115a6e",
   "metadata": {},
   "outputs": [
    {
     "data": {
      "text/plain": [
       "True"
      ]
     },
     "execution_count": 70,
     "metadata": {},
     "output_type": "execute_result"
    }
   ],
   "source": [
    "image_id = 9\n",
    "img_filename = os.path.join(coco_image_dir, coco.loadImgs(image_id)[0]['file_name'])\n",
    "img = cv2.imread(img_filename)\n",
    "base_name = os.path.basename(img_filename)\n",
    "# print(base_name)\n",
    "\n",
    "anno_ids = coco.getAnnIds(imgIds=[int(image_id)], iscrowd=False)\n",
    "annotations = coco.loadAnns(anno_ids)\n",
    "for obj in annotations:\n",
    "    x1 = obj['bbox'][0]\n",
    "    y1 = obj['bbox'][1]\n",
    "    x2 = x1 + obj['bbox'][2]\n",
    "    y2 = y1 + obj['bbox'][3]\n",
    "    category = obj['category_id']\n",
    "    class_name = cls[category]\n",
    "    # if obj['area'] > 0 and x2 >= x1 and y2 >= y1:\n",
    "    #     obj['clean_bbox'] = [x1, y1, x2, y2]\n",
    "    #     # print(obj['clean_bbox'])\n",
    "    #     objs.append(obj)\n",
    "    cv2.rectangle(img, (int(x1),int(y1)), (int(x2),int(y2)), (255,125, 255), 2)\n",
    "cv2.imwrite('test1.png', img)\n",
    "        "
   ]
  },
  {
   "cell_type": "code",
   "execution_count": 71,
   "id": "3221f4c7-69ff-461f-962f-de1d46a0d734",
   "metadata": {},
   "outputs": [
    {
     "name": "stdout",
     "output_type": "stream",
     "text": [
      "init method called\n",
      "enter method called\n",
      "with statement block\n",
      "exit method called\n"
     ]
    }
   ],
   "source": [
    "class ContextManager():\n",
    "    def __init__(self):\n",
    "        print('init method called')\n",
    "         \n",
    "    def __enter__(self):\n",
    "        print('enter method called')\n",
    "        return self\n",
    "     \n",
    "    def __exit__(self, exc_type, exc_value, exc_traceback):\n",
    "        print('exit method called')\n",
    " \n",
    "with ContextManager() as manager:\n",
    "    print('with statement block')"
   ]
  },
  {
   "cell_type": "code",
   "execution_count": 74,
   "id": "77d82d2a-cee8-4612-88c5-cb4e396213d7",
   "metadata": {},
   "outputs": [],
   "source": [
    "with open(coco_image_json, 'r') as file:\n",
    "    j_file = json.load(file)"
   ]
  },
  {
   "cell_type": "code",
   "execution_count": 91,
   "id": "8f6f8513-b09f-4e1d-b677-7c656f92ebad",
   "metadata": {},
   "outputs": [],
   "source": [
    "from collections import defaultdict\n",
    "img_anno = defaultdict(list)\n",
    "for obj in j_file['annotations']:\n",
    "    img_anno[obj['image_id']].append(obj['id'])"
   ]
  },
  {
   "cell_type": "code",
   "execution_count": 92,
   "id": "a7012bc6-1e75-4613-a9bc-4713cb55d2cd",
   "metadata": {},
   "outputs": [
    {
     "name": "stdout",
     "output_type": "stream",
     "text": [
      "defaultdict(<class 'list'>, {0: [0, 1, 2, 3], 1: [4, 5, 6], 2: [7, 8], 3: [9, 10], 4: [11, 12, 13, 14], 5: [15, 16], 6: [17, 18, 19, 20], 7: [21, 22], 8: [23, 24], 9: [25, 26, 27, 28], 10: [29, 30], 11: [31, 32, 33, 34], 12: [35, 36], 13: [37, 38, 39, 40], 14: [41, 42, 43], 15: [44, 45], 16: [46, 47], 17: [48, 49, 50, 51, 52, 53], 18: [54, 55, 56, 57], 19: [58, 59], 20: [60, 61, 62], 21: [63, 64], 22: [65, 66, 67], 23: [68, 69, 70], 24: [71, 72, 73], 25: [74, 75], 26: [76, 77, 78], 27: [79, 80, 81, 82], 28: [83, 84, 85], 29: [86, 87, 88, 89], 30: [90, 91, 92, 93, 94, 95], 31: [96, 97, 98, 99, 100], 32: [101, 102, 103, 104, 105, 106], 33: [107, 108, 109, 110, 111], 34: [112, 113], 35: [114, 115], 36: [116, 117, 118], 37: [119, 120, 121, 122], 38: [123, 124, 125], 39: [126, 127], 40: [128, 129, 130, 131], 41: [132, 133, 134, 135, 136, 137, 138], 42: [139, 140, 141], 43: [142, 143, 144], 44: [145, 146], 45: [147, 148], 46: [149, 150], 47: [151, 152], 48: [153, 154, 155], 49: [156, 157, 158, 159, 160, 161], 50: [162, 163], 51: [164, 165], 52: [166, 167, 168, 169, 170, 171, 172, 173, 174, 175, 176], 53: [177, 178], 54: [179, 180, 181], 55: [182, 183], 56: [184, 185], 57: [186, 187, 188], 58: [189, 190], 59: [191, 192, 193, 194], 60: [195, 196], 61: [197], 62: [198], 63: [199, 200, 201, 202], 64: [203, 204], 65: [205, 206, 207, 208, 209], 66: [210, 211], 67: [212, 213], 68: [214, 215], 69: [216, 217]})\n"
     ]
    }
   ],
   "source": [
    "print(img_anno)"
   ]
  },
  {
   "cell_type": "code",
   "execution_count": 95,
   "id": "06ff9871-b502-4756-9bb9-5a5415c49c40",
   "metadata": {},
   "outputs": [
    {
     "name": "stdout",
     "output_type": "stream",
     "text": [
      "0 [0, 1, 2, 3]\n",
      "1 [4, 5, 6]\n",
      "2 [7, 8]\n",
      "3 [9, 10]\n",
      "4 [11, 12, 13, 14]\n",
      "5 [15, 16]\n",
      "6 [17, 18, 19, 20]\n",
      "7 [21, 22]\n",
      "8 [23, 24]\n",
      "9 [25, 26, 27, 28]\n",
      "10 [29, 30]\n",
      "11 [31, 32, 33, 34]\n",
      "12 [35, 36]\n",
      "13 [37, 38, 39, 40]\n",
      "14 [41, 42, 43]\n",
      "15 [44, 45]\n",
      "16 [46, 47]\n",
      "17 [48, 49, 50, 51, 52, 53]\n",
      "18 [54, 55, 56, 57]\n",
      "19 [58, 59]\n",
      "20 [60, 61, 62]\n",
      "21 [63, 64]\n",
      "22 [65, 66, 67]\n",
      "23 [68, 69, 70]\n",
      "24 [71, 72, 73]\n",
      "25 [74, 75]\n",
      "26 [76, 77, 78]\n",
      "27 [79, 80, 81, 82]\n",
      "28 [83, 84, 85]\n",
      "29 [86, 87, 88, 89]\n",
      "30 [90, 91, 92, 93, 94, 95]\n",
      "31 [96, 97, 98, 99, 100]\n",
      "32 [101, 102, 103, 104, 105, 106]\n",
      "33 [107, 108, 109, 110, 111]\n",
      "34 [112, 113]\n",
      "35 [114, 115]\n",
      "36 [116, 117, 118]\n",
      "37 [119, 120, 121, 122]\n",
      "38 [123, 124, 125]\n",
      "39 [126, 127]\n",
      "40 [128, 129, 130, 131]\n",
      "41 [132, 133, 134, 135, 136, 137, 138]\n",
      "42 [139, 140, 141]\n",
      "43 [142, 143, 144]\n",
      "44 [145, 146]\n",
      "45 [147, 148]\n",
      "46 [149, 150]\n",
      "47 [151, 152]\n",
      "48 [153, 154, 155]\n",
      "49 [156, 157, 158, 159, 160, 161]\n",
      "50 [162, 163]\n",
      "51 [164, 165]\n",
      "52 [166, 167, 168, 169, 170, 171, 172, 173, 174, 175, 176]\n",
      "53 [177, 178]\n",
      "54 [179, 180, 181]\n",
      "55 [182, 183]\n",
      "56 [184, 185]\n",
      "57 [186, 187, 188]\n",
      "58 [189, 190]\n",
      "59 [191, 192, 193, 194]\n",
      "60 [195, 196]\n",
      "61 [197]\n",
      "62 [198]\n",
      "63 [199, 200, 201, 202]\n",
      "64 [203, 204]\n",
      "65 [205, 206, 207, 208, 209]\n",
      "66 [210, 211]\n",
      "67 [212, 213]\n",
      "68 [214, 215]\n",
      "69 [216, 217]\n"
     ]
    }
   ],
   "source": [
    "for ix,value in img_anno.items():\n",
    "    print(ix, value)"
   ]
  },
  {
   "cell_type": "code",
   "execution_count": null,
   "id": "96f723a2-5ee7-48fa-9663-d41f795c449e",
   "metadata": {},
   "outputs": [],
   "source": []
  }
 ],
 "metadata": {
  "kernelspec": {
   "display_name": "Python 3 (ipykernel)",
   "language": "python",
   "name": "python3"
  },
  "language_info": {
   "codemirror_mode": {
    "name": "ipython",
    "version": 3
   },
   "file_extension": ".py",
   "mimetype": "text/x-python",
   "name": "python",
   "nbconvert_exporter": "python",
   "pygments_lexer": "ipython3",
   "version": "3.10.12"
  }
 },
 "nbformat": 4,
 "nbformat_minor": 5
}
